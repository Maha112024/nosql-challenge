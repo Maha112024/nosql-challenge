





from pymongo import MongoClient
import pandas as pd
from pprint import pprint


# Create an instance of MongoClient
mongo = MongoClient(port=27017)


# assign the uk_food database to a variable name
db = mongo['UK_food']


# review the collections in our database
print(db.list_collection_names())


# assign the collection to a variable
establishments = db['establishments']
establishments








# Find the establishments with a hygiene score of 20
query = {"scores.Hygiene": 20}
# Use count_documents to display the number of documents in the result
hygiene_score = establishments.count_documents(query)
# print(f"{hygiene_score} --> There are "
#       f"{hygiene_score} documents were the hygiene score is 20.\n")
print('Number of establishments with a hygiene score of 20: ', establishments.count_documents(query))
# Display the first document in the results using pprint
results = establishments.find(query)
pprint(results[0])



new_df = pd.DataFrame(results)
# Display the number of rows in the DataFrame
print(f"The number of rows in the dataframe is {len(new_df)}")
# Display the first 10 rows of the DataFrame
new_df.head(10)





# Find the establishments with London as the Local Authority and has a RatingValue greater than or equal to 4.
query =  {"LocalAuthorityName":{'$regex': "London"}, "RatingValue" : {'$gte':4}}
# Use count_documents to display the number of documents in the result
print(f"The no of documents with a rating value of 4 is "
      f"{establishments.count_documents(query)}.\n")
# Display the first document in the results using pprint
print_results = establishments.find(query)
pprint(print_results[0])





# Convert the result to a Pandas DataFrame
results_df = pd.DataFrame(print_results)
# Display the number of rows in the DataFrame
print(f"The number of rows in the dataframe is {len(results_df)}")
# Display the first 10 rows of the DataFrame
results_df.head(10)






# Create
penang_flavours = establishments.find_one({"BusinessName":"Penang Flavours"},{"geocode"})
# Search within 0.01 degree on either side of the latitude and longitude.
# Rating value must equal 5
# Sort by hygiene score
degree_search = 0.01
latitude = penang_flavours ['geocode']['latitude']
longitude = penang_flavours ['geocode']['longitude']
query = {  "RatingValue": 5,
           "geocode.latitude": {"$gte": (latitude-degree_search), "$lte": (latitude+degree_search)},
           "geocode.longitude": {"$gte": (longitude-degree_search), "$lte": (longitude+degree_search)}
        }
sort = [("scores.Hygiene",1)]
limit = 5
# Print the results
results = list(establishments.find(query).sort(sort).limit(limit))
pprint(results)



# Convert result to Pandas DataFrame
new_df = pd.DataFrame(results)
new_df





#Create a pipeline that:
# 1. Matches establishments with a hygiene score of 0
match = {'$match': {"scores.Hygiene":0}}
# 2. Groups the matches by Local Authority
group = {"$group": {"_id": "$LocalAuthorityName",
                          "count": { "$sum": 1 } }}
# 3. Sorts the matches from highest to lowest
sort_queries = {"$sort": {"count": -1}}
# Create a pipeline
pipeline = [match, group, sort_queries]
# Print the number of documents in the result
pipeline_results = list(establishments.aggregate(pipeline))
# Print the first 10 results
pprint(pipeline_results[0:10])



# Convert the result to a Pandas DataFrame
pipeline_results_df = pd.DataFrame(pipeline_results)
# Display the number of rows in the DataFrame
print(f"There are {len(pipeline_results_df)} rows in the dataframe.")
# Display the first 10 rows of the DataFrame
pipeline_results_df.head(10)




