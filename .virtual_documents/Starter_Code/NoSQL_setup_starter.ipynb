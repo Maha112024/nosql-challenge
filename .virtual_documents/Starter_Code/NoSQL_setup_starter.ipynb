








# Import dependencies
from pymongo import MongoClient
from pprint import pprint


# Create an instance of MongoClient
mongo = MongoClient(port=27017)


# confirm that our new database was created
print(mongo.list_database_names())


# assign the uk_food database to a variable name
db = mongo['UK_food']


# review the collections in our new database
print(db.list_collection_names())


# review the collections in our new database
print(db.list_collection_names())


# review a document in the establishments collection
pprint(db.establishments.find_one())


# assign the collection to a variable
establishments = db['establishments']
establishments








# Create a dictionary for the new restaurant data
new_restaurant = {
    "BusinessName":"Penang Flavours",
    "BusinessType":"Restaurant/Cafe/Canteen",
    "BusinessTypeID":"",
    "AddressLine1":"Penang Flavours",
    "AddressLine2":"146A Plumstead Rd",
    "AddressLine3":"London",
    "AddressLine4":"",
    "PostCode":"SE18 7DY",
    "Phone":"",
    "LocalAuthorityCode":"511",
    "LocalAuthorityName":"Greenwich",
    "LocalAuthorityWebSite":"http://www.royalgreenwich.gov.uk",
    "LocalAuthorityEmailAddress":"health@royalgreenwich.gov.uk",
    "scores":{
        "Hygiene":"",
        "Structural":"",
        "ConfidenceInManagement":""
    },
    "SchemeType":"FHRS",
    "geocode":{
        "longitude":"0.08384000",
        "latitude":"51.49014200"
    },
    "RightToReply":"",
    "Distance":4623.9723280747176,
    "NewRatingPending":True
}


# Insert the new restaurant into the collection
establishments.insert_one(new_restaurant)


# Check that the new restaurant was inserted
pprint(establishments.find_one({'BusinessName':'Penang Flavours'}))





# Find the BusinessTypeID for "Restaurant/Cafe/Canteen" and return only the BusinessTypeID and BusinessType fields
query_1 = {'BusinessType': 'Restaurant/Cafe/Canteen'}
query_2 = {"BusinessTypeID", "BusinessType"}
pprint(establishments.find_one(query_1,query_2))





# Update the new restaurant with the correct BusinessTypeID
establishments.update_one({"BusinessName":"Penang Flavours"},
                          [ { "$set" : { "BusinessTypeID" : 1 } } ] )


# Confirm that the new restaurant was updated
pprint(establishments.find_one({'BusinessName':'Penang Flavours'}))





# Find how many documents have LocalAuthorityName as "Dover"
documents = {'LocalAuthorityName': 'Dover'}
dover_results = establishments.count_documents(documents)
print('No of documents with LocalAuthority as "Dover":', dover_results)


# Delete all documents where LocalAuthorityName is "Dover"
establishments.delete_many({'LocalAuthorityName' : 'Dover'})


# Check if any remaining documents include Dover
dover_remain = establishments.count_documents(documents)
print('Number of documents remaining:',dover_remain)


# Check that other documents remain with 'find_one'
pprint(establishments.find_one())








# Change the data type from String to Decimal for longitude and latitude
establishments.update_many({}, [ { '$set': { "geocode.longitude": {'$toDouble':"$geocode.longitude"},
                                           "geocode.latitude": {'$toDouble': "$geocode.latitude"}
                                           }
                                 } ] )





# Set non 1-5 Rating Values to Null
non_ratings = ["AwaitingInspection", "Awaiting Inspection", "AwaitingPublication", "Pass", "Exempt"]
establishments.update_many({"RatingValue": {"$in": non_ratings}}, [ {'$set':{ "RatingValue" : None}} ])


# Change the data type from String to Integer for RatingValue
establishments.update_many({}, [ { '$set': { "RatingValue": {'$toInt':"$RatingValue"},
                                           }
                                 } ] )


# Check that the coordinates and rating value are now numbers
rating = {"RatingValue": {"$gte":1}}
coordinates = {"geocode":1, "RatingValue":1}
pprint(establishments.find_one(rating,coordinates))



